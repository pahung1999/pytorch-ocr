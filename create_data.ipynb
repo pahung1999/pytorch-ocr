{
 "cells": [
  {
   "cell_type": "code",
   "execution_count": 2,
   "metadata": {},
   "outputs": [],
   "source": [
    "import matplotlib.pyplot as plt\n",
    "import numpy as np\n",
    "import random\n",
    "import os\n",
    "import itertools\n",
    "import pandas as pd\n",
    "import cv2"
   ]
  },
  {
   "cell_type": "code",
   "execution_count": null,
   "metadata": {},
   "outputs": [],
   "source": [
    "fonts = \"\"\"\\\n",
    "Allison\n",
    "Allura\n",
    "Ballet\n",
    "Ballet 24pt\n",
    "Ballet 28pt\n",
    "Ballet 48pt\n",
    "Ballet 60pt\n",
    "Bilbo\n",
    "Birthstone\n",
    "Caramel\n",
    "Carattere\n",
    "Cherish\n",
    "Comforter\n",
    "Corinthia\n",
    "Ephesis\n",
    "Estonia\n",
    "Explora\n",
    "Festive\n",
    "Fuggles\n",
    "Hurricane\n",
    "Italianno\n",
    "Kings\n",
    "Meow Script\n",
    "MonteCarlo\n",
    "Petemoss\n",
    "Praise\n",
    "Qwigley\n",
    "Ruthie\n",
    "Shalimar\n",
    "\"\"\"\n",
    "# fonts = \"\"\"\\\n",
    "# Allison\n",
    "# Allura\n",
    "# Ballet\n",
    "# Ballet 24pt\n",
    "# Ballet 28pt\n",
    "# Ballet 48pt\n",
    "# Ballet 60pt\n",
    "# Bilbo\n",
    "# Birthstone\n",
    "# Caramel\n",
    "# Carattere\n",
    "# Charm\n",
    "# Charmonman\n",
    "# Cherish\n",
    "# Comforter\n",
    "# Corinthia\n",
    "# Ephesis\n",
    "# Estonia\n",
    "# Explora\n",
    "# Festive\n",
    "# Fuggles\n",
    "# Hurricane\n",
    "# Italianno\n",
    "# Kings\n",
    "# Mali\n",
    "# Meow Script\n",
    "# MonteCarlo\n",
    "# Pangolin\n",
    "# Petemoss\n",
    "# Praise\n",
    "# Qwigley\n",
    "# Ruthie\n",
    "# Shalimar\n",
    "# Sriracha\n",
    "# WindSong\n",
    "# Yomogi\n",
    "# \"\"\"\n",
    "fonts=fonts.split(\"\\n\")\n",
    "fonts = [f.strip() for f in fonts]\n",
    "fonts = [f for f in fonts if len(f) > 0]"
   ]
  },
  {
   "cell_type": "code",
   "execution_count": null,
   "metadata": {},
   "outputs": [],
   "source": [
    "texts = \"\"\"\n",
    "Con chó đái bờ rào, đánh dấu lãnh thổ\n",
    "Qua khám nghiệm, cảnh sát ghi nhận \n",
    "trên cơ thể bé gái có nhiều vết bầm tím,\n",
    "ngoài ra còn có vết thương được khâu vá, mờ cũ trên vùng mặt,\n",
    "nghi vấn bé gái bị bạo hành dẫn đến tử vong.\n",
    "Quá trình điều tra, công an xác định V.N.Q.Tr.\n",
    "(26 tuổi, ngụ tỉnh Gia Lai) là người liên quan \n",
    "trực tiếp đến vụ án nên bắt khẩn cấp để điều tra.\n",
    "Bé A. là con riêng của anh Th.\n",
    "(36 tuổi), còn Tr. là vợ sắp cưới của anh Th.,\n",
    "cả 3 người sống chung tại một căn hộ ở quận Bình Thạnh.\n",
    "Ngay sau khi xảy ra vụ việc, cư dân mạng đã nhanh chóng\n",
    "tìm ra tài khoản Facebook được cho là của \"dì ghẻ\" Tr.\n",
    "Trung tâm Kiểm soát bệnh tật (CDC) Hà Nội \n",
    "tối 26/12 ghi nhận \"kỷ lục\" 1.887 ca mắc Covid-19.\n",
    "Đây là ngày thứ 8 liên tiếp,\n",
    "Hà Nội \"dẫn đầu\" cả nước về số ca nhiễm.\n",
    "Cộng dồn số ca mắc trong đợt dịch thứ tư (từ ngày 29/4),\n",
    "thành phố có tổng 39.409 ca,\n",
    "trong đó 14.333 ca cộng đồng\n",
    "và 25.076 người đã được cách ly.\n",
    "Dịch lan ra toàn bộ 30/30 quận, huyện, thị xã.\n",
    "Đặc biệt, 2 quận Đống Đa và Hoàng Mai\n",
    "vượt 4.000 ca mắc với lần lượt 4.203 và 4.000 ca\n",
    "Các quận, huyện vượt 2.000 ca mắc gồm: Hai Bà Trưng (2.614),\n",
    "Ba Đình (2.334), Nam Từ Liêm (2.174),\n",
    "Thanh Xuân (2.139), Long Biên (2.064).\n",
    "Các quận, huyện từ 1.000 đến dưới 2.000 ca mắc gồm:\n",
    "Thanh Trì (1.872), Gia Lâm (1.869), Hà Đông (1.851),\n",
    "Đông Anh (1.782), Bắc Từ Liêm (1.540),\n",
    "Hoàn Kiếm (1.158), Tây Hồ (1.015).\n",
    "Các quận, huyện từ 500 đến dưới 1.000 ca gồm:\n",
    "Cầu Giấy (991), Thường Tín (980), Chương Mỹ (953),\n",
    "Mê Linh (847), Quốc Oai (801), Hoài Đức (799),\n",
    "Sóc Sơn (648), Thanh Oai (549).\n",
    "Các quận, huyện, thị xã dưới 500 ca gồm:\n",
    "Đan Phượng (482), Ứng Hòa (335), Mỹ Đức (326),\n",
    "Thạch Thất (306), Ba Vì (250), Phú Xuyên (215),\n",
    "Sơn Tây (198), Phúc Thọ (114).\n",
    "Về công tác tiêm chủng, đối với người trên 18 tuổi,\n",
    "toàn thành phố đã tiêm được 5.376.825 mũi 1 (đạt 98,3%),\n",
    "5.191.493 mũi 2 (đạt 94,7%),\n",
    "116.627 mũi bổ sung và 54.234 mũi nhắc lại.\n",
    "Đối với người trên 50 tuổi,\n",
    "tỷ lệ tiêm mũi 1 đạt 98,4%;\n",
    "tỷ lệ tiêm mũi 2 đạt 95,5%. \n",
    "Số lượng mũi bổ sung đã tiêm là 38.690\n",
    "và số lượng mũi nhắc lại đã tiêm là 2.645.\n",
    "Đối với trẻ từ 12 - 14 tuổi,\n",
    "Hà Nội đã tiêm 366.731 mũi 1\n",
    "(đạt 98,1%) và 86.165 mũi 2.\n",
    "Đối với trẻ từ 15 - 17 tuổi,\n",
    "Hà Nội đã tiêm 300.481 mũi 1\n",
    "(đạt 99,2%) và 252.483 mũi 2.\n",
    "Sở Y tế Hà Nội khuyến cáo,\n",
    "tất cả người dân trên địa bàn thành phố,\n",
    "khi có một trong các biểu hiện như sốt, ho,\n",
    "đau họng, khó thở, đau người, mệt mỏi, ớn lạnh,\n",
    "giảm hoặc mất vị giác, hoặc mất khứu giác,\n",
    "cần liên hệ ngay với trạm y tế phường,\n",
    "xã nơi lưu trú để được hướng dẫn và\n",
    "làm xét nghiệm SARS-CoV-2 miễn phí\n",
    "nhằm phát hiện sớm nguy cơ mắc bệnh Covid-19.\n",
    "\"\"\"\n",
    "import re\n",
    "texts = re.split(r\"\\n\", texts)\n",
    "texts = [f.strip() for f in texts]\n",
    "texts = [f for f in texts if len(f) > 0]\n",
    "texts"
   ]
  },
  {
   "cell_type": "code",
   "execution_count": 15,
   "metadata": {},
   "outputs": [
    {
     "name": "stderr",
     "output_type": "stream",
     "text": [
      "/tmp/ipykernel_2457/3405307040.py:13: MatplotlibDeprecationWarning: savefig() got unexpected keyword argument \"layout\" which is no longer supported as of 3.3 and will become an error two minor releases later\n",
      "  f.savefig(\"../../Dataset/Vietnamese_gg_font/data/\"+file, layout='tight')\n"
     ]
    }
   ],
   "source": [
    "df = pd.DataFrame(columns=['file','line'])\n",
    "count=0\n",
    "for (i, (txt, font)) in enumerate(itertools.product(texts, fonts)):\n",
    "    # print(\"Font: \",font)\n",
    "    # txt = \"ngoài ra còn có vết thương được khâu vá, mờ cũ trên vùng mặt\"\n",
    "    f = plt.figure(figsize=(len(txt)*0.2, 1), dpi=300)\n",
    "    file = f\"{i}.jpg\"\n",
    "    t = plt.text(0.5, 0.5, txt, fontsize=32, fontfamily=font, ha=\"center\", ma=\"center\",va=\"center_baseline\")\n",
    "    plt.axis('off')\n",
    "    plt.close(f)\n",
    "\n",
    "    # f.savefig(f\"/tmp/data/{file}\", layout='tight')\n",
    "    f.savefig(\"../../Dataset/Vietnamese_gg_font/data/\"+file, layout='tight')\n",
    "    \n",
    "    df=df.append({\"file\": str(file), \"line\": str(txt)}, ignore_index=True)\n",
    "    # count=count+1\n",
    "    # if count==40:\n",
    "    #     break\n",
    "df.to_csv(\"../../Dataset/Vietnamese_gg_font/data/data.csv\")"
   ]
  },
  {
   "cell_type": "code",
   "execution_count": 3,
   "metadata": {},
   "outputs": [],
   "source": [
    "def get_grayscale(image):\n",
    "    return cv2.cvtColor(image, cv2.COLOR_BGR2GRAY)\n",
    "\n",
    "#thresholding\n",
    "def thresholding(image):\n",
    "    return cv2.threshold(image, 0, 255, cv2.THRESH_BINARY + cv2.THRESH_OTSU)[1]"
   ]
  },
  {
   "cell_type": "code",
   "execution_count": 58,
   "metadata": {},
   "outputs": [],
   "source": [
    "path=\"../../Dataset/BKHN/samples-full/\"\n",
    "path2=\"../../Dataset/BKHN/samples-new/\"\n",
    "\n",
    "for filename in os.listdir(path):\n",
    "    full_path=os.path.join(path,filename)\n",
    "    if filename[len(filename)-3:]=='png':\n",
    "        img=cv2.imread(full_path)\n",
    "        y,x,c=img.shape\n",
    "        img=img[:,35:x-35]\n",
    "        gray = cv2.cvtColor(img, cv2.COLOR_BGR2GRAY)\n",
    "        thresh=thresholding(gray)\n",
    "        cv2.imwrite(path2+filename,thresh)\n",
    "\n",
    "\n",
    "    "
   ]
  },
  {
   "cell_type": "code",
   "execution_count": 11,
   "metadata": {},
   "outputs": [
    {
     "data": {
      "text/plain": [
       "True"
      ]
     },
     "execution_count": 11,
     "metadata": {},
     "output_type": "execute_result"
    }
   ],
   "source": [
    "img=cv2.imread(\"../../Dataset/BKHN/data/space/space.png\")\n",
    "y,x,c=img.shape\n",
    "img=cv2.resize(img,(136,239))\n",
    "gray = cv2.cvtColor(img, cv2.COLOR_BGR2GRAY)\n",
    "thresh=thresholding(gray)\n",
    "cv2.imwrite(\"../../Dataset/BKHN/data/space/space.png\",img)\n"
   ]
  },
  {
   "cell_type": "code",
   "execution_count": 47,
   "metadata": {},
   "outputs": [
    {
     "data": {
      "text/html": [
       "<div>\n",
       "<style scoped>\n",
       "    .dataframe tbody tr th:only-of-type {\n",
       "        vertical-align: middle;\n",
       "    }\n",
       "\n",
       "    .dataframe tbody tr th {\n",
       "        vertical-align: top;\n",
       "    }\n",
       "\n",
       "    .dataframe thead th {\n",
       "        text-align: right;\n",
       "    }\n",
       "</style>\n",
       "<table border=\"1\" class=\"dataframe\">\n",
       "  <thead>\n",
       "    <tr style=\"text-align: right;\">\n",
       "      <th></th>\n",
       "      <th>file</th>\n",
       "      <th>line</th>\n",
       "    </tr>\n",
       "  </thead>\n",
       "  <tbody>\n",
       "    <tr>\n",
       "      <th>0</th>\n",
       "      <td>20011.jpg-h-104.sample.png</td>\n",
       "      <td>h</td>\n",
       "    </tr>\n",
       "    <tr>\n",
       "      <th>1</th>\n",
       "      <td>10062.jpg-ằ-7857.sample.png</td>\n",
       "      <td>ằ</td>\n",
       "    </tr>\n",
       "    <tr>\n",
       "      <th>2</th>\n",
       "      <td>10055.jpg-ả-7843.sample.png</td>\n",
       "      <td>ả</td>\n",
       "    </tr>\n",
       "    <tr>\n",
       "      <th>3</th>\n",
       "      <td>20034.jpg-Ổ-7892.sample.png</td>\n",
       "      <td>Ổ</td>\n",
       "    </tr>\n",
       "    <tr>\n",
       "      <th>4</th>\n",
       "      <td>20018.jpg-E-69.sample.png</td>\n",
       "      <td>E</td>\n",
       "    </tr>\n",
       "    <tr>\n",
       "      <th>...</th>\n",
       "      <td>...</td>\n",
       "      <td>...</td>\n",
       "    </tr>\n",
       "    <tr>\n",
       "      <th>8126</th>\n",
       "      <td>20051.jpg-ờ-7901.sample.png</td>\n",
       "      <td>ờ</td>\n",
       "    </tr>\n",
       "    <tr>\n",
       "      <th>8127</th>\n",
       "      <td>10039.jpg-T-84.sample.png</td>\n",
       "      <td>T</td>\n",
       "    </tr>\n",
       "    <tr>\n",
       "      <th>8128</th>\n",
       "      <td>20045.jpg-ắ-7854.sample.png</td>\n",
       "      <td>ắ</td>\n",
       "    </tr>\n",
       "    <tr>\n",
       "      <th>8129</th>\n",
       "      <td>10030.jpg-S-83.sample.png</td>\n",
       "      <td>S</td>\n",
       "    </tr>\n",
       "    <tr>\n",
       "      <th>8130</th>\n",
       "      <td>20051.jpg-ỡ-7905.sample.png</td>\n",
       "      <td>ỡ</td>\n",
       "    </tr>\n",
       "  </tbody>\n",
       "</table>\n",
       "<p>8131 rows × 2 columns</p>\n",
       "</div>"
      ],
      "text/plain": [
       "                             file line\n",
       "0      20011.jpg-h-104.sample.png    h\n",
       "1     10062.jpg-ằ-7857.sample.png    ằ\n",
       "2     10055.jpg-ả-7843.sample.png    ả\n",
       "3     20034.jpg-Ổ-7892.sample.png    Ổ\n",
       "4       20018.jpg-E-69.sample.png    E\n",
       "...                           ...  ...\n",
       "8126  20051.jpg-ờ-7901.sample.png    ờ\n",
       "8127    10039.jpg-T-84.sample.png    T\n",
       "8128  20045.jpg-ắ-7854.sample.png    ắ\n",
       "8129    10030.jpg-S-83.sample.png    S\n",
       "8130  20051.jpg-ỡ-7905.sample.png    ỡ\n",
       "\n",
       "[8131 rows x 2 columns]"
      ]
     },
     "execution_count": 47,
     "metadata": {},
     "output_type": "execute_result"
    }
   ],
   "source": [
    "#Vietnamese_BKHN\n",
    "path=\"../../Dataset/BKHN/\"\n",
    "df=pd.read_csv(path+\"data.csv\")\n",
    "df"
   ]
  },
  {
   "cell_type": "code",
   "execution_count": 48,
   "metadata": {},
   "outputs": [],
   "source": [
    "for i in range(0,len(df)):\n",
    "    folder_name=df['line'][i]\n",
    "    newpath = '../../Dataset/BKHN/data/'+str(folder_name)\n",
    "    if not os.path.exists(newpath):\n",
    "        os.makedirs(newpath)"
   ]
  },
  {
   "cell_type": "code",
   "execution_count": 49,
   "metadata": {},
   "outputs": [],
   "source": [
    "path1=\"../../Dataset/BKHN/samples-new/\"\n",
    "path2=\"../../Dataset/BKHN/data/\"\n",
    "for i in range(0,len(df)):\n",
    "    file_name=df['file'][i]\n",
    "    label=df['line'][i]\n",
    "    full_path=os.path.join(path1,file_name)\n",
    "    img=cv2.imread(full_path)\n",
    "    gray = cv2.cvtColor(img, cv2.COLOR_BGR2GRAY)\n",
    "    thresh=thresholding(gray)\n",
    "    cv2.imwrite(path2+str(label)+\"/\"+file_name,thresh)"
   ]
  },
  {
   "cell_type": "code",
   "execution_count": 8,
   "metadata": {},
   "outputs": [
    {
     "data": {
      "text/plain": [
       "['Con chó đái bờ rào, đánh dấu lãnh thổ',\n",
       " 'Qua khám nghiệm, cảnh sát ghi nhận',\n",
       " 'trên cơ thể bé gái có nhiều vết bầm tím',\n",
       " 'ngoài ra còn có vết thương được khâu vá mờ cũ trên vùng mặt',\n",
       " 'nghi vấn bé gái bị bạo hành dẫn đến tử vong',\n",
       " 'cả ba người sống chung tại một căn hộ ở quận Bình Thạnh']"
      ]
     },
     "execution_count": 8,
     "metadata": {},
     "output_type": "execute_result"
    }
   ],
   "source": [
    "texts = \"\"\"\n",
    "Con chó đái bờ rào, đánh dấu lãnh thổ\n",
    "Qua khám nghiệm, cảnh sát ghi nhận \n",
    "trên cơ thể bé gái có nhiều vết bầm tím\n",
    "ngoài ra còn có vết thương được khâu vá mờ cũ trên vùng mặt\n",
    "nghi vấn bé gái bị bạo hành dẫn đến tử vong\n",
    "cả ba người sống chung tại một căn hộ ở quận Bình Thạnh\n",
    "\"\"\"\n",
    "import re\n",
    "texts = re.split(r\"\\n\", texts)\n",
    "texts = [f.strip() for f in texts]\n",
    "texts = [f for f in texts if len(f) > 0]\n",
    "texts"
   ]
  },
  {
   "cell_type": "code",
   "execution_count": 13,
   "metadata": {},
   "outputs": [
    {
     "ename": "ValueError",
     "evalue": "all the input arrays must have same number of dimensions, but the array at index 0 has 3 dimension(s) and the array at index 1 has 0 dimension(s)",
     "output_type": "error",
     "traceback": [
      "\u001b[0;31m---------------------------------------------------------------------------\u001b[0m",
      "\u001b[0;31mValueError\u001b[0m                                Traceback (most recent call last)",
      "\u001b[0;32m/tmp/ipykernel_6374/468521342.py\u001b[0m in \u001b[0;36m<module>\u001b[0;34m\u001b[0m\n\u001b[1;32m     10\u001b[0m         \u001b[0mt\u001b[0m\u001b[0;34m==\u001b[0m\u001b[0;34m\"space\"\u001b[0m\u001b[0;34m\u001b[0m\u001b[0;34m\u001b[0m\u001b[0m\n\u001b[1;32m     11\u001b[0m     \u001b[0mimg_temp\u001b[0m\u001b[0;34m=\u001b[0m\u001b[0mcv2\u001b[0m\u001b[0;34m.\u001b[0m\u001b[0mimread\u001b[0m\u001b[0;34m(\u001b[0m\u001b[0mrandom\u001b[0m\u001b[0;34m.\u001b[0m\u001b[0mchoice\u001b[0m\u001b[0;34m(\u001b[0m\u001b[0mos\u001b[0m\u001b[0;34m.\u001b[0m\u001b[0mlistdir\u001b[0m\u001b[0;34m(\u001b[0m\u001b[0mpath\u001b[0m\u001b[0;34m+\u001b[0m\u001b[0mt\u001b[0m\u001b[0;34m)\u001b[0m\u001b[0;34m)\u001b[0m\u001b[0;34m)\u001b[0m\u001b[0;34m\u001b[0m\u001b[0;34m\u001b[0m\u001b[0m\n\u001b[0;32m---> 12\u001b[0;31m     \u001b[0mtext_img\u001b[0m\u001b[0;34m=\u001b[0m\u001b[0mnp\u001b[0m\u001b[0;34m.\u001b[0m\u001b[0mconcatenate\u001b[0m\u001b[0;34m(\u001b[0m\u001b[0;34m(\u001b[0m\u001b[0mtext_img\u001b[0m\u001b[0;34m,\u001b[0m\u001b[0mimg_temp\u001b[0m\u001b[0;34m)\u001b[0m\u001b[0;34m,\u001b[0m \u001b[0maxis\u001b[0m\u001b[0;34m=\u001b[0m\u001b[0;36m0\u001b[0m\u001b[0;34m)\u001b[0m\u001b[0;34m\u001b[0m\u001b[0;34m\u001b[0m\u001b[0m\n\u001b[0m\u001b[1;32m     13\u001b[0m \u001b[0;34m\u001b[0m\u001b[0m\n\u001b[1;32m     14\u001b[0m \u001b[0mplt\u001b[0m\u001b[0;34m.\u001b[0m\u001b[0mimshow\u001b[0m\u001b[0;34m(\u001b[0m\u001b[0mtext_img\u001b[0m\u001b[0;34m)\u001b[0m\u001b[0;34m\u001b[0m\u001b[0;34m\u001b[0m\u001b[0m\n",
      "\u001b[0;32m<__array_function__ internals>\u001b[0m in \u001b[0;36mconcatenate\u001b[0;34m(*args, **kwargs)\u001b[0m\n",
      "\u001b[0;31mValueError\u001b[0m: all the input arrays must have same number of dimensions, but the array at index 0 has 3 dimension(s) and the array at index 1 has 0 dimension(s)"
     ]
    }
   ],
   "source": [
    "import cv2\n",
    "import numpy as np\n",
    "import random\n",
    "path=\"../../Dataset/BKHN/data/\"\n",
    "text=\"Con chó đái bờ rào, đánh dấu lãnh thổ\"\n",
    "text_img=cv2.imread(\"../../Dataset/BKHN/data/space/space.png\")\n",
    "for i in range(0,len(text)):\n",
    "    t=text[i]\n",
    "    if t==\" \":\n",
    "        t==\"space\"\n",
    "    img_temp=cv2.imread(path+t+\"/\"+random.choice(os.listdir(path+t)))\n",
    "    text_img=np.concatenate((text_img,img_temp), axis=1)\n",
    "\n",
    "plt.imshow(text_img)"
   ]
  },
  {
   "cell_type": "code",
   "execution_count": 25,
   "metadata": {},
   "outputs": [
    {
     "data": {
      "text/plain": [
       "(239, 136, 3)"
      ]
     },
     "execution_count": 25,
     "metadata": {},
     "output_type": "execute_result"
    }
   ],
   "source": [
    "t=\"C\"\n",
    "img_temp=cv2.imread(path+t+\"/\"+random.choice(os.listdir(path+t)))\n",
    "img_temp.shape"
   ]
  },
  {
   "cell_type": "code",
   "execution_count": 24,
   "metadata": {},
   "outputs": [
    {
     "data": {
      "text/plain": [
       "'10057.jpg-C-67.sample.png'"
      ]
     },
     "execution_count": 24,
     "metadata": {},
     "output_type": "execute_result"
    }
   ],
   "source": [
    "random.choice(os.listdir(path+t))"
   ]
  }
 ],
 "metadata": {
  "interpreter": {
   "hash": "e7370f93d1d0cde622a1f8e1c04877d8463912d04d973331ad4851f04de6915a"
  },
  "kernelspec": {
   "display_name": "Python 3 (ipykernel)",
   "language": "python",
   "name": "python3"
  },
  "language_info": {
   "codemirror_mode": {
    "name": "ipython",
    "version": 3
   },
   "file_extension": ".py",
   "mimetype": "text/x-python",
   "name": "python",
   "nbconvert_exporter": "python",
   "pygments_lexer": "ipython3",
   "version": "3.9.2"
  }
 },
 "nbformat": 4,
 "nbformat_minor": 2
}
